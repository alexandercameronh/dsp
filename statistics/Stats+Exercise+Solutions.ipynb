{
 "cells": [
  {
   "cell_type": "markdown",
   "metadata": {},
   "source": [
    "## Required Statistics Exercises\n",
    "## Created by: Alexander Hughes\n"
   ]
  },
  {
   "cell_type": "code",
   "execution_count": null,
   "metadata": {
    "collapsed": true
   },
   "outputs": [],
   "source": [
    "### All of these exercises were completed in Spyder and code was copied into Jupyter Notebook for ease of reading \n",
    "and submitting material"
   ]
  },
  {
   "cell_type": "code",
   "execution_count": null,
   "metadata": {
    "collapsed": true
   },
   "outputs": [],
   "source": [
    "### Chapter 2 Exercise 4"
   ]
  },
  {
   "cell_type": "code",
   "execution_count": null,
   "metadata": {
    "collapsed": true
   },
   "outputs": [],
   "source": [
    "live=df[df.outcome == 1]\n",
    "\n",
    "\n",
    "firsts=live[live.birthord == 1]\n",
    "others=live[live.birthord != 1]\n",
    "\n",
    "CohenEffectSize(others.totalwgt_lb, firsts.totalwgt_lb)\n",
    "\n",
    "\n",
    "CohenEffectSize(firsts.prglngth, others.prglngth)"
   ]
  },
  {
   "cell_type": "code",
   "execution_count": null,
   "metadata": {
    "collapsed": true
   },
   "outputs": [],
   "source": [
    "### Cohen's d for total weight: 0.08867 Cohen's d for pregnancy length: 0.02887\n"
   ]
  },
  {
   "cell_type": "code",
   "execution_count": null,
   "metadata": {
    "collapsed": true
   },
   "outputs": [],
   "source": [
    "## Chapter 3 Exercise 1"
   ]
  },
  {
   "cell_type": "code",
   "execution_count": null,
   "metadata": {
    "collapsed": true
   },
   "outputs": [],
   "source": [
    "## need to load ReadFemResp (not ReadFemPreg)\n",
    "respData=nsfg.ReadFemResp()\n",
    "\n",
    "initialpmf=thinkstats2.Pmf(respData.numkdhh)\n",
    "thinkplot.Pmf(initialpmf)\n",
    "thinkplot.Config(xlabel='number of kids', ylabel='probability')\n",
    "\n",
    "##create bias pmf\n",
    "biaspmf = BiasPmf(initialpmf, label='biased')\n",
    "\n",
    "##plot simultaneously\n",
    "thinkplot.PrePlot(2)\n",
    "thinkplot.Pmfs([initialpmf, biaspmf])\n",
    "thinkplot.Show(xlabel='number of kids', ylabel='prob')\n",
    "\n",
    "print(\"the mean value for the Initial Pmf is: {}\\n The mean for bias pmf is: {}\".format(initialpmf.Mean(), \n",
    "biaspmf.Mean()))"
   ]
  },
  {
   "cell_type": "code",
   "execution_count": null,
   "metadata": {
    "collapsed": true
   },
   "outputs": [],
   "source": [
    "### After plotting both pmfs, we can see that the mean for the Bias PMF is slightly higher than that of the Initial PMF\n",
    "### That is, the mean number of children per household for the Bias PMF is roughly 2.4;\n",
    "### the mean number of children for the initial pmf is 1.02"
   ]
  },
  {
   "cell_type": "code",
   "execution_count": null,
   "metadata": {
    "collapsed": true
   },
   "outputs": [],
   "source": [
    "## Chapter 4 Exercise 2"
   ]
  },
  {
   "cell_type": "code",
   "execution_count": null,
   "metadata": {
    "collapsed": true
   },
   "outputs": [],
   "source": [
    "##create 1000 random numbers (between 0 and 1)\n",
    "randomNum=np.random.random(1000)\n",
    "\n",
    "#plot pmf of random numbers\n",
    "randomNumPMF=thinkstats2.Pmf(randomNum)\n",
    "thinkplot.Pmf(randomNumPMF)\n",
    "thinkplot.Config(xlabel='random numbers', ylabel='probability')\n",
    "\n",
    "#plot cdf of random numbers\n",
    "randomNumCDF=thinkstats2.Cdf(randomNum)\n",
    "thinkplot.Cdf(randomNumCDF)\n",
    "thinkplot.Config(xlabel='random numbers', ylabel='CDF')"
   ]
  },
  {
   "cell_type": "code",
   "execution_count": null,
   "metadata": {
    "collapsed": true
   },
   "outputs": [],
   "source": [
    "### After creating a list of 1000 random numbers (between 0 and 1), both the PMF and CDF were plotted.\n",
    "### The PDF plot is extremely dense, and the CDF has a perfect diagonal slope - this indicates that there\n",
    "### is a uniform distribution among the randomly generated numbers"
   ]
  },
  {
   "cell_type": "code",
   "execution_count": null,
   "metadata": {
    "collapsed": true
   },
   "outputs": [],
   "source": [
    "## Chapter 5 Exercice 1"
   ]
  },
  {
   "cell_type": "code",
   "execution_count": null,
   "metadata": {
    "collapsed": true
   },
   "outputs": [],
   "source": [
    "muMen=178\n",
    "sigmaMen=7.7\n",
    "muWomen=163\n",
    "sigmaWomen=7.3 \n",
    "#create distribution\n",
    "dist = scipy.stats.norm(loc=muMen, scale=sigmaMen)\n",
    "type(dist)\n",
    "print(dist.mean())\n",
    "print(dist.std())\n",
    "\n",
    "#evaluate CDF\n",
    "#dist.cdf(muMen) #checking that 50% are below mean -- correct.\n",
    "\n",
    "\n",
    "##how many people are more than 1 std dev below mean?\n",
    "\n",
    "dist.cdf(muMen-sigmaMen)\n",
    "\n",
    "##5' 10\" in centimeters: 177.8\n",
    "##6' 1\" in centimeters: 185.42\n",
    "\n",
    "difference= dist.cdf(185.42) - dist.cdf(177.8) \n",
    "print(difference)"
   ]
  },
  {
   "cell_type": "code",
   "execution_count": null,
   "metadata": {
    "collapsed": true
   },
   "outputs": [],
   "source": [
    "### First, the values in inches needed to be convertered to cm (I used Google). Then calculated the difference between \n",
    "the two CDF's at those values. Just about 34% of men are in this range."
   ]
  },
  {
   "cell_type": "code",
   "execution_count": null,
   "metadata": {
    "collapsed": true
   },
   "outputs": [],
   "source": []
  }
 ],
 "metadata": {
  "kernelspec": {
   "display_name": "Python 3",
   "language": "python",
   "name": "python3"
  }
 },
 "nbformat": 4,
 "nbformat_minor": 2
}
